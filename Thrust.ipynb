{
 "cells": [
  {
   "cell_type": "code",
   "execution_count": 54,
   "metadata": {
    "collapsed": false,
    "deletable": true,
    "editable": true
   },
   "outputs": [
    {
     "name": "stdout",
     "output_type": "stream",
     "text": [
      "\n",
      "        Thrust: 4.1162089094 [kN]\n",
      "        m_dot:  5.49776232808 [kg/s]\n",
      "        v_e:    738.966762721 [m/s]\n",
      "        M_e:    6.93629038982 \n",
      "        p_e:    7679.59674248 [Pa]\n",
      "        T_e:    28.242139017 [K]\n",
      "        \n",
      "\n",
      "        m_dot * v_e:       4.06266362979 [kN]\n",
      "        (p_e - p_0) * A_e: 0.0535452796033 [kN]\n",
      "        \n"
     ]
    },
    {
     "data": {
      "text/plain": [
       "4116.2089093962331"
      ]
     },
     "execution_count": 54,
     "metadata": {},
     "output_type": "execute_result"
    }
   ],
   "source": [
    "import numpy as np\n",
    "from scipy.optimize import fsolve\n",
    "\n",
    "import matplotlib.pyplot as plt\n",
    "%matplotlib inline  \n",
    "\n",
    "# Rocket engine thrust as described in \n",
    "# https://www.grc.nasa.gov/www/k-12/airplane/rktthsum.html\n",
    "\n",
    "\n",
    "p_t = 300. * 10**5  # pressure in tank [Pa]\n",
    "T_t = 300.          # temperature in tank [K]\n",
    "d_star = .01        # diameter at throat [m]\n",
    "d_e = .1            # diameter at exit [m]\n",
    "\n",
    "def computeThrust(p_t, T_t, d_star, d_e, debug=False):\n",
    "    gam = 1.4           # specific heat ratio for oxygen\n",
    "    R = 287.058         # specific gas constant for oxygen [J/kg/K]\n",
    "    p_0 = 862.          # vacuum tube pressure [Pa]\n",
    "\n",
    "\n",
    "    A_e = np.pi * (d_e/2.)**2.\n",
    "    A_star = np.pi * (d_star/2.)**2.\n",
    "\n",
    "\n",
    "    m_dot = (A_star * p_t / np.sqrt(T_t)) * np.sqrt(gam/R) * ((gam+1.)/2.)**(-((gam+1.)/(gam-1.)/2.))\n",
    "    M_e = fsolve(\n",
    "        lambda M: (((gam+1.)/2.)**(-((gam+1.)/(gam-1.)/2))) / M * (1. + M**2. * (gam-1.)/2.)**((gam+1.)/(gam-1.)/2.) - A_e/A_star\n",
    "        , 100.)[0]\n",
    "    p_e = p_t * (1. + M_e**2. * (gam-1.)/2.)**(-(gam/(gam-1.)))\n",
    "    T_e = T_t / (1. + M_e**2. * (gam-1.)/2.)\n",
    "    v_e = M_e * np.sqrt(gam * R * T_e)\n",
    "    F = m_dot * v_e + (p_e - p_0) * A_e\n",
    "\n",
    "    if debug:\n",
    "        print \"\"\"\n",
    "        Thrust: {} [kN]\n",
    "        m_dot:  {} [kg/s]\n",
    "        v_e:    {} [m/s]\n",
    "        M_e:    {} \n",
    "        p_e:    {} [Pa]\n",
    "        T_e:    {} [K]\n",
    "        \"\"\".format(F/1000., m_dot, v_e, M_e, p_e, T_e)\n",
    "\n",
    "        print \"\"\"\n",
    "        m_dot * v_e:       {} [kN]\n",
    "        (p_e - p_0) * A_e: {} [kN]\n",
    "        \"\"\".format(m_dot * v_e/1000., (p_e - p_0) * A_e/1000.)\n",
    "    \n",
    "    return F\n",
    "\n",
    "computeThrust(p_t, T_t, d_star, d_e, True)"
   ]
  },
  {
   "cell_type": "code",
   "execution_count": 245,
   "metadata": {
    "collapsed": false,
    "deletable": true,
    "editable": true
   },
   "outputs": [
    {
     "data": {
      "text/plain": [
       "0.0085211158478690815"
      ]
     },
     "execution_count": 245,
     "metadata": {},
     "output_type": "execute_result"
    }
   ],
   "source": [
    "# compute d_star at 3 kN\n",
    "fsolve(lambda x: computeThrust(p_t, T_t, x, d_e)-3000., 10., )[0]"
   ]
  },
  {
   "cell_type": "code",
   "execution_count": 52,
   "metadata": {
    "collapsed": false,
    "deletable": true,
    "editable": true
   },
   "outputs": [
    {
     "data": {
      "text/plain": [
       "[<matplotlib.lines.Line2D at 0x10cb0f410>]"
      ]
     },
     "execution_count": 52,
     "metadata": {},
     "output_type": "execute_result"
    },
    {
     "data": {
      "image/png": "[encoded data removed]",
      "text/plain": [
       "<matplotlib.figure.Figure at 0x10df009d0>"
      ]
     },
     "metadata": {},
     "output_type": "display_data"
    }
   ],
   "source": [
    "# Thrust vs [ p_t, T_t, d_star, d_e ]\n",
    "\n",
    "# Actual value in center of the x-axis\n",
    "\n",
    "plt.rcParams['figure.figsize'] = (20, 5)\n",
    "thrust = np.vectorize(computeThrust)\n",
    "\n",
    "f, ax = plt.subplots(1,4)\n",
    "\n",
    "p = np.linspace(0.,2.*p_t,100)\n",
    "ax[0].set_title('p_t')\n",
    "ax[0].plot(p, thrust(p, T_t, d_star, d_e))\n",
    "\n",
    "T = np.linspace(1.,2.*T_t,100)\n",
    "ax[1].set_title('T_t')\n",
    "ax[1].plot(T, thrust(p_t, T, d_star, d_e))\n",
    "\n",
    "d = np.linspace(0.0001,2.*d_star,100)\n",
    "ax[2].set_title('d_star')\n",
    "ax[2].plot(d, thrust(p_t, T_t, d, d_e))\n",
    "\n",
    "d = np.linspace(0.0001,2.*d_e,100)\n",
    "ax[3].set_title('d_e')\n",
    "ax[3].plot(d, thrust(p_t, T_t, d_star, d))"
   ]
  },
  {
   "cell_type": "code",
   "execution_count": null,
   "metadata": {
    "collapsed": true
   },
   "outputs": [],
   "source": []
  }
 ],
 "metadata": {
  "kernelspec": {
   "display_name": "Python 2",
   "language": "python",
   "name": "python2"
  },
  "language_info": {
   "codemirror_mode": {
    "name": "ipython",
    "version": 2
   },
   "file_extension": ".py",
   "mimetype": "text/x-python",
   "name": "python",
   "nbconvert_exporter": "python",
   "pygments_lexer": "ipython2",
   "version": "2.7.12"
  }
 },
 "nbformat": 4,
 "nbformat_minor": 2
}
