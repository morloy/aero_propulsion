{
 "cells": [
  {
   "cell_type": "code",
   "execution_count": 207,
   "metadata": {
    "collapsed": false
   },
   "outputs": [
    {
     "name": "stdout",
     "output_type": "stream",
     "text": [
      "\n",
      "Thrust: 4.1162089094 [kN]\n",
      "m_dot:  5.49776232808 [kg/s]\n",
      "v_e:    738.966762721 [m/s]\n",
      "M_e:    6.93629038982 \n",
      "p_e:    7679.59674248 [Pa]\n",
      "T_e:    28.242139017 [K]\n",
      "\n",
      "\n",
      "m_dot * v_e:       4.06266362979 [kN]\n",
      "(p_e - p_0) * A_e: 0.0535452796033 [kN]\n",
      "\n"
     ]
    }
   ],
   "source": [
    "import numpy as np\n",
    "from scipy.optimize import fsolve\n",
    "\n",
    "# Rocket engine thrust as described in \n",
    "# https://www.grc.nasa.gov/www/k-12/airplane/rktthsum.html\n",
    "\n",
    "\n",
    "p_t = 300. * 10**5  # pressure in tank [Pa]\n",
    "T_t = 300.          # temperature in tank [K]\n",
    "d_star = .04        # diameter at throat [m]\n",
    "d_e = .6            # diameter at exit [m]\n",
    "\n",
    "gam = 1.4           # specific heat ratio for oxygen\n",
    "R = 287.058         # specific gas constant for oxygen [J/kg/K]\n",
    "p_0 = 862.          # vacuum tube pressure [Pa]\n",
    "\n",
    "\n",
    "A_e = np.pi * (d_e/2.)**2.\n",
    "A_star = np.pi * (d_star/2.)**2.\n",
    "\n",
    "\n",
    "m_dot = (A_star * p_t / np.sqrt(T_t)) * np.sqrt(gam/R) * ((gam+1.)/2.)**(-((gam+1.)/(gam-1.)/2.))\n",
    "M_e = fsolve(\n",
    "    lambda M: (((gam+1.)/2.)**(-((gam+1.)/(gam-1.)/2))) / M * (1. + M**2. * (gam-1.)/2.)**((gam+1.)/(gam-1.)/2.) - A_e/A_star\n",
    "    , 100.)[0]\n",
    "p_e = p_t * (1. + M_e**2. * (gam-1.)/2.)**(-(gam/(gam-1.)))\n",
    "T_e = T_t * (1. + M_e**2. * (gam-1.)/2.)**(-1.)\n",
    "v_e = M_e * np.sqrt(gam * R * T_e)\n",
    "F = m_dot * v_e + (p_e - p_0) * A_e\n",
    "\n",
    "print \"\"\"\n",
    "Thrust: {} [kN]\n",
    "m_dot:  {} [kg/s]\n",
    "v_e:    {} [m/s]\n",
    "M_e:    {} \n",
    "p_e:    {} [Pa]\n",
    "T_e:    {} [K]\n",
    "\"\"\".format(F/1000., m_dot, v_e, M_e, p_e, T_e)\n",
    "\n",
    "print \"\"\"\n",
    "m_dot * v_e:       {} [kN]\n",
    "(p_e - p_0) * A_e: {} [kN]\n",
    "\"\"\".format(m_dot * v_e/1000., (p_e - p_0) * A_e/1000.)"
   ]
  },
  {
   "cell_type": "code",
   "execution_count": 175,
   "metadata": {
    "collapsed": false
   },
   "outputs": [
    {
     "data": {
      "text/plain": [
       "(65945.482393242914, 440.05996174336082)"
      ]
     },
     "execution_count": 175,
     "metadata": {},
     "output_type": "execute_result"
    }
   ],
   "source": [
    "(m_dot*v_e, (p_e-p_0)*A_e)"
   ]
  },
  {
   "cell_type": "code",
   "execution_count": 151,
   "metadata": {
    "collapsed": false
   },
   "outputs": [
    {
     "data": {
      "text/plain": [
       "2.3563102282258094e-05"
      ]
     },
     "execution_count": 151,
     "metadata": {},
     "output_type": "execute_result"
    }
   ],
   "source": [
    "(1. + 10.**2. * (gam-1.)/2.)**(-(gam/(gam-1.)))"
   ]
  },
  {
   "cell_type": "code",
   "execution_count": 171,
   "metadata": {
    "collapsed": false
   },
   "outputs": [
    {
     "data": {
      "text/plain": [
       "(0.2827433388230814, 0.0012566370614359172)"
      ]
     },
     "execution_count": 171,
     "metadata": {},
     "output_type": "execute_result"
    }
   ],
   "source": [
    "A_e, A_star"
   ]
  },
  {
   "cell_type": "code",
   "execution_count": null,
   "metadata": {
    "collapsed": true
   },
   "outputs": [],
   "source": []
  }
 ],
 "metadata": {
  "kernelspec": {
   "display_name": "Python 2",
   "language": "python",
   "name": "python2"
  },
  "language_info": {
   "codemirror_mode": {
    "name": "ipython",
    "version": 2
   },
   "file_extension": ".py",
   "mimetype": "text/x-python",
   "name": "python",
   "nbconvert_exporter": "python",
   "pygments_lexer": "ipython2",
   "version": "2.7.12"
  }
 },
 "nbformat": 4,
 "nbformat_minor": 2
}
