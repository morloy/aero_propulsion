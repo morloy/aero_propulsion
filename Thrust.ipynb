{
 "cells": [
  {
   "cell_type": "code",
   "execution_count": 91,
   "metadata": {
    "collapsed": false
   },
   "outputs": [
    {
     "name": "stdout",
     "output_type": "stream",
     "text": [
      "\n",
      "Thrust: 4433.59790585 [N]\n",
      "m_dot:  2.78681252989 [kg/s]\n",
      "M_e:    1.01447994839 \n",
      "p_e:    15581.7067315 [kPa]\n",
      "T_e:    248.790481617 [K]\n",
      "v_e:    10.1252879368 [m/s]\n",
      "\n"
     ]
    }
   ],
   "source": [
    "import numpy as np\n",
    "from scipy.optimize import fsolve\n",
    "\n",
    "# Rocket engine thrust as described in \n",
    "# https://www.grc.nasa.gov/www/k-12/airplane/rktthsum.html\n",
    "\n",
    "\n",
    "p_t = 30000   # pressure in tank [kPa]\n",
    "T_t = 300     # temperature in tank [K]\n",
    "d_star = 0.04 # diameter at throad [m]\n",
    "d_e = .6      # diameter at exit [m]\n",
    "\n",
    "gam = 1.4     # specific heat ratio for oxygen\n",
    "R = 0.286     # specific gas constant for oxygen [kJ/kg/K]\n",
    "\n",
    "p_0 = 0.86    # free stream pressure [kPa]\n",
    "\n",
    "A_e = np.pi * (d_e/2)**2\n",
    "A_star = np.pi * (d_star/2)**2\n",
    "\n",
    "\n",
    "m_dot = (A_star * p_t / np.sqrt(T_t)) * np.sqrt(gam/R) * ((gam+1.)/2.)**(-((gam+1.)/(gam-1.)/2.))\n",
    "M_e = fsolve(\n",
    "    lambda M_e: (((gam+1.)/2.)**(-((gam+1.)/(gam-1.)/2))) / M_e * (1. + M_e**2 * (gam-1.)/2.)**((gam+1.)/(gam-1.)/2.) - A_e/A_star\n",
    "    , 1.)[0]\n",
    "p_e = p_t * (1. + M_e**2. * (gam-1.)/2.)**(-(gam/(gam-1.)))\n",
    "T_e = T_t * (1. + M_e**2. * (gam-1.)/2.)**(-1)\n",
    "v_e = M_e * np.sqrt(gam * R * T_e)\n",
    "F = m_dot * v_e + (p_e - p_0) * A_e\n",
    "\n",
    "print \"\"\"\n",
    "Thrust: {} [N]\n",
    "m_dot:  {} [kg/s]\n",
    "M_e:    {} \n",
    "p_e:    {} [kPa]\n",
    "T_e:    {} [K]\n",
    "v_e:    {} [m/s]\n",
    "\"\"\".format(F, m_dot, M_e, p_e, T_e, v_e)"
   ]
  }
 ],
 "metadata": {
  "kernelspec": {
   "display_name": "Python 2",
   "language": "python",
   "name": "python2"
  },
  "language_info": {
   "codemirror_mode": {
    "name": "ipython",
    "version": 2
   },
   "file_extension": ".py",
   "mimetype": "text/x-python",
   "name": "python",
   "nbconvert_exporter": "python",
   "pygments_lexer": "ipython2",
   "version": "2.7.12"
  }
 },
 "nbformat": 4,
 "nbformat_minor": 2
}
